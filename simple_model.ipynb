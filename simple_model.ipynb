{
 "cells": [
  {
   "cell_type": "code",
   "execution_count": 1,
   "id": "cc14f722-7eea-4467-9f32-aa485a6cc069",
   "metadata": {},
   "outputs": [],
   "source": [
    "import matplotlib.pyplot as plt\n",
    "import seaborn as sns\n",
    "import itertools as it\n",
    "import scipy as scp\n",
    "import pandas as pd\n",
    "import copy as cp\n",
    "from tqdm import tqdm \n",
    "\n",
    "sns.set_theme(style=\"darkgrid\",context='talk', font_scale=1.1)\n",
    "%matplotlib inline\n",
    "\n",
    "import numpy as np"
   ]
  },
  {
   "cell_type": "code",
   "execution_count": null,
   "id": "b1de3121-c386-494d-8371-d79dceee1db4",
   "metadata": {},
   "outputs": [],
   "source": [
    "ge = g2 = g3 = g4  = gya  = 0.0\n",
    "g2d = 0.1\n",
    "gd4 = 0.0\n",
    "gb1 = gb2 = gb3 = gb4 = gb4 = gb5 = 0.0415\n",
    "d_e = 0.995\n",
    "d = 0.995 \n",
    "d_dauer = 1.\n",
    "doa = 0.995 #\n",
    "U_starv = np.matrix([[d_e*(1. - ge), 0, 0, 0, 0, 0, 0, 0, 0, 0, 0, 0],\n",
    "                      [d_e*ge, d*(1. - g2) * (1. - g2d), 0, 0, 0, 0, 0, 0, 0, 0, 0, 0],\n",
    "                      [0, d_dauer*g2d,d_dauer*(1. - gd4), 0, 0, 0, 0, 0, 0, 0, 0, 0],\n",
    "                      [0, d*g2, 0, d*(1. - g3), 0, 0, 0, 0, 0, 0, 0, 0],\n",
    "                      [0, 0, d_dauer*gd4, d*g3, d*(1. - g4), 0, 0, 0, 0, 0, 0, 0],\n",
    "                      [0, 0, 0, 0, d*g4, d*(1. - gya), 0, 0, 0, 0, 0, 0],  \n",
    "                      [0, 0, 0, 0, 0, d*gya, d*(1. - gb1), 0, 0, 0, 0, 0],\n",
    "                      [0, 0, 0, 0, 0, 0, d*gb1, d*(1. - gb2), 0, 0, 0, 0],\n",
    "                      [0, 0, 0, 0, 0, 0, 0, d*gb2, d*(1 - gb3), 0, 0, 0],\n",
    "                      [0, 0, 0, 0, 0, 0, 0, 0, d*gb3, d*(1 - gb4), 0, 0],\n",
    "                      [0, 0, 0, 0, 0, 0, 0, 0, 0, d*gb4, d*(1 - gb5), 0],\n",
    "                      [0, 0, 0, 0, 0, 0, 0, 0, 0, 0, d*gb5, doa]])"
   ]
  },
  {
   "cell_type": "code",
   "execution_count": 4,
   "id": "34b8d2fc-753a-4e88-9daf-62155ecf0735",
   "metadata": {},
   "outputs": [],
   "source": [
    "U = np.identity(10) * 0"
   ]
  },
  {
   "cell_type": "code",
   "execution_count": 18,
   "id": "96c769e9-f7cd-498d-98a8-c369e0a28e0d",
   "metadata": {},
   "outputs": [],
   "source": [
    "γ_JE  = 0.5\n",
    "γ_DJ = 0.45\n",
    "γ_YD = 0.45\n",
    "γ_YJ = 0.45\n",
    "γ_RAY = 0.45\n",
    "γ_RR = 0.0415\n",
    "γ_OR = 0.15\n",
    "δ_E = 0.99\n",
    "δ_J = 0.99\n",
    "δ_D = 0.99\n",
    "δ_Y = 0.99\n",
    "δ_RA = 0.99\n",
    "δ_OA = 0.95"
   ]
  },
  {
   "cell_type": "code",
   "execution_count": 21,
   "id": "72179622-0e3f-4efb-9fe3-4581e9313767",
   "metadata": {},
   "outputs": [],
   "source": [
    "U[0][0] = δ_E * (1 - γ_JE)\n",
    "# juvenile rates\n",
    "U[1][0] = δ_E * γ_JE\n",
    "U[1][1] = δ_J * (1 - γ_YJ) * (1 - γ_DJ)\n",
    "# dauer rates\n",
    "U[2][1] = δ_J * γ_DJ\n",
    "U[2][2] = δ_D * (1 - γ_YD)\n",
    "# young adults\n",
    "U[3][1] = δ_J * γ_YJ\n",
    "U[3][2] = δ_D * γ_YD\n",
    "U[3][3] = δ_Y * (1 - γ_RAY)\n",
    "# reproducing adults\n",
    "U[4][3] = δ_Y * γ_RAY\n",
    "U[4][4] = δ_RA * (1 - γ_RR)\n",
    "\n",
    "U[5][4] = δ_RA * γ_RR\n",
    "U[5][5] = δ_RA * (1 - γ_RR)\n",
    "\n",
    "U[6][5] = δ_RA * γ_RR\n",
    "U[6][6] = δ_RA * (1 - γ_RR)\n",
    "\n",
    "U[7][6] = δ_RA * γ_RR\n",
    "U[7][7] = δ_RA * (1 - γ_RR)\n",
    "\n",
    "U[8][7] = δ_RA * γ_RR\n",
    "U[8][8] = δ_RA * (1 - γ_OR)\n",
    "\n",
    "# old adults\n",
    "U[9][8] = δ_RA * γ_OR\n",
    "U[9][9] = δ_OA"
   ]
  },
  {
   "cell_type": "code",
   "execution_count": 22,
   "id": "23d39fb5-8678-4597-8cdf-13e079334ec1",
   "metadata": {},
   "outputs": [
    {
     "data": {
      "text/plain": [
       "array([[0.495   , 0.      , 0.      , 0.      , 0.      , 0.      ,\n",
       "        0.      , 0.      , 0.      , 0.      ],\n",
       "       [0.495   , 0.299475, 0.      , 0.      , 0.      , 0.      ,\n",
       "        0.      , 0.      , 0.      , 0.      ],\n",
       "       [0.      , 0.4455  , 0.5445  , 0.      , 0.      , 0.      ,\n",
       "        0.      , 0.      , 0.      , 0.      ],\n",
       "       [0.      , 0.4455  , 0.4455  , 0.5445  , 0.      , 0.      ,\n",
       "        0.      , 0.      , 0.      , 0.      ],\n",
       "       [0.      , 0.      , 0.      , 0.4455  , 0.948915, 0.      ,\n",
       "        0.      , 0.      , 0.      , 0.      ],\n",
       "       [0.      , 0.      , 0.      , 0.      , 0.041085, 0.948915,\n",
       "        0.      , 0.      , 0.      , 0.      ],\n",
       "       [0.      , 0.      , 0.      , 0.      , 0.      , 0.041085,\n",
       "        0.948915, 0.      , 0.      , 0.      ],\n",
       "       [0.      , 0.      , 0.      , 0.      , 0.      , 0.      ,\n",
       "        0.041085, 0.948915, 0.      , 0.      ],\n",
       "       [0.      , 0.      , 0.      , 0.      , 0.      , 0.      ,\n",
       "        0.      , 0.041085, 0.8415  , 0.      ],\n",
       "       [0.      , 0.      , 0.      , 0.      , 0.      , 0.      ,\n",
       "        0.      , 0.      , 0.1485  , 0.95    ]])"
      ]
     },
     "execution_count": 22,
     "metadata": {},
     "output_type": "execute_result"
    }
   ],
   "source": [
    "U"
   ]
  },
  {
   "cell_type": "code",
   "execution_count": null,
   "id": "2b3c51b3-c27e-4cf4-b14d-884bbd84b87b",
   "metadata": {},
   "outputs": [],
   "source": [
    "        ge = 0.0415\n",
    "        g2 = 0.055\n",
    "        g3 = 0.085\n",
    "        g4  = 0.07\n",
    "        gya  = 0.1\n",
    "        g2d = 0.0\n",
    "        gd4 = 0.1\n",
    "        gb1 = gb2 = gb3 = gb4 = gb4 = gb5= 0.0415\n",
    "        d = 1.\n",
    "        d_dauer = 1.0\n",
    "        doa = 0.995"
   ]
  },
  {
   "cell_type": "code",
   "execution_count": 264,
   "id": "3362c9b0-73c7-408f-86f7-50985b2fd8ca",
   "metadata": {},
   "outputs": [],
   "source": [
    "U = np.identity(9) * 0\n",
    "\n",
    "γ_JE  = 0.04\n",
    "γ_YJ = 0.04\n",
    "γ_RAY = 0.08\n",
    "\n",
    "γ_RR = 0.031\n",
    "γ_OR = 0.031\n",
    "δ_E = 0.99\n",
    "δ_J = 0.99\n",
    "δ_Y = 0.99\n",
    "δ_RA = 0.99\n",
    "δ_OA = 0.99\n",
    "\n",
    "U[0][0] = δ_E * (1 - γ_JE)\n",
    "# juvenile rates\n",
    "U[1][0] = δ_E * γ_JE\n",
    "U[1][1] = δ_J * (1 - γ_YJ) \n",
    "\n",
    "# young adults\n",
    "U[2][1] = δ_J * γ_YJ\n",
    "U[2][2] = δ_Y * (1 - γ_RAY)\n",
    "# reproducing adults\n",
    "U[3][2] = δ_Y * γ_RAY\n",
    "U[3][3] = δ_RA * (1 - γ_RR)\n",
    "\n",
    "U[4][3] = δ_RA * γ_RR\n",
    "U[4][4] = δ_RA * (1 - γ_RR)\n",
    "\n",
    "U[5][4] = δ_RA * γ_RR\n",
    "U[5][5] = δ_RA * (1 - γ_RR)\n",
    "\n",
    "U[6][5] = δ_RA * γ_RR\n",
    "U[6][6] = δ_RA * (1 - γ_RR)\n",
    "\n",
    "U[7][6] = δ_RA * γ_RR\n",
    "U[7][7] = δ_RA * (1 - γ_OR)\n",
    "\n",
    "# old adults\n",
    "U[8][7] = δ_RA * γ_OR\n",
    "U[8][8] = δ_OA"
   ]
  },
  {
   "cell_type": "code",
   "execution_count": 265,
   "id": "774b5556-4860-462d-a306-0b37c857d4b1",
   "metadata": {},
   "outputs": [],
   "source": [
    "fund_mat = np.linalg.inv(np.identity(9) - U)"
   ]
  },
  {
   "cell_type": "code",
   "execution_count": 266,
   "id": "6d5f5033-3fd9-4e36-b7e7-8372c1f08c35",
   "metadata": {},
   "outputs": [
    {
     "data": {
      "text/plain": [
       "array([ 20.16129032,  20.16129032,  11.21076233,  24.57606291,\n",
       "        24.57606291,  24.57606291,  24.57606291,  24.57606291,\n",
       "       100.        ])"
      ]
     },
     "execution_count": 266,
     "metadata": {},
     "output_type": "execute_result"
    }
   ],
   "source": [
    "np.diagonal(fund_mat)"
   ]
  },
  {
   "cell_type": "code",
   "execution_count": 251,
   "id": "e8158a1e-9ab4-43aa-b822-54e387fcef46",
   "metadata": {},
   "outputs": [],
   "source": [
    "fec_pars = {'A': {'OP50': [22.65, 68.45, 57.05, 33.4,  4.97], 'Novo': [11.66, 62.53, 47.13, 13.94,  0.72]},\n",
    "            'C': {'OP50': [19.8 , 60.3 , 43.02, 19.9,  6.6], 'Novo': [16.88, 80.77, 77.7 , 16.28,  1.4]}}"
   ]
  },
  {
   "cell_type": "code",
   "execution_count": 252,
   "id": "4217b562-ceee-4f63-9d5b-adfabfa6d8b6",
   "metadata": {},
   "outputs": [],
   "source": [
    "def gen_fec_matrix(strain, food_type, rate):\n",
    "    \"\"\"Generate fecundity matrix.\n",
    "\n",
    "    Args:\n",
    "        strain (str): A (RSC017) or C (RS5405)\n",
    "        food_type (str): The bacterial diet (Novo or OP50)\n",
    "\n",
    "    Returns:\n",
    "        numpy matrix: fecundity values for each breeding developmental stage.\n",
    "    \"\"\"\n",
    "    F = np.identity(9) * 0\n",
    "    count = 0\n",
    "    for i in np.arange(3, 8, 1):\n",
    "        F[0][i] = rate*fec_pars[strain][food_type][count]\n",
    "        count += 1\n",
    "    return F"
   ]
  },
  {
   "cell_type": "code",
   "execution_count": 253,
   "id": "f36acea4-ecf1-480d-bfa5-a6cb31c6d9ce",
   "metadata": {},
   "outputs": [],
   "source": [
    "f_mat = gen_fec_matrix('A', 'Novo', γ_RR)"
   ]
  },
  {
   "cell_type": "code",
   "execution_count": 255,
   "id": "70c081fe-c4df-4bfe-9c80-25aaa3cd11ca",
   "metadata": {},
   "outputs": [
    {
     "data": {
      "text/plain": [
       "array([[0.     , 0.     , 0.     , 0.36146, 1.93843, 1.46103, 0.43214,\n",
       "        0.02232, 0.     ],\n",
       "       [0.     , 0.     , 0.     , 0.     , 0.     , 0.     , 0.     ,\n",
       "        0.     , 0.     ],\n",
       "       [0.     , 0.     , 0.     , 0.     , 0.     , 0.     , 0.     ,\n",
       "        0.     , 0.     ],\n",
       "       [0.     , 0.     , 0.     , 0.     , 0.     , 0.     , 0.     ,\n",
       "        0.     , 0.     ],\n",
       "       [0.     , 0.     , 0.     , 0.     , 0.     , 0.     , 0.     ,\n",
       "        0.     , 0.     ],\n",
       "       [0.     , 0.     , 0.     , 0.     , 0.     , 0.     , 0.     ,\n",
       "        0.     , 0.     ],\n",
       "       [0.     , 0.     , 0.     , 0.     , 0.     , 0.     , 0.     ,\n",
       "        0.     , 0.     ],\n",
       "       [0.     , 0.     , 0.     , 0.     , 0.     , 0.     , 0.     ,\n",
       "        0.     , 0.     ],\n",
       "       [0.     , 0.     , 0.     , 0.     , 0.     , 0.     , 0.     ,\n",
       "        0.     , 0.     ]])"
      ]
     },
     "execution_count": 255,
     "metadata": {},
     "output_type": "execute_result"
    }
   ],
   "source": [
    "f_mat"
   ]
  },
  {
   "cell_type": "code",
   "execution_count": 257,
   "id": "d1dcc044-a685-4946-a0eb-e9b39a776c05",
   "metadata": {},
   "outputs": [],
   "source": [
    "fund_mat = np.linalg.inv(np.identity(9) - U)"
   ]
  },
  {
   "cell_type": "code",
   "execution_count": 261,
   "id": "ea7bde4c-c743-406f-b90c-303abc3ae9d8",
   "metadata": {},
   "outputs": [
    {
     "data": {
      "text/plain": [
       "array([0., 0., 0., 0., 0., 0., 0., 0., 0.])"
      ]
     },
     "execution_count": 261,
     "metadata": {},
     "output_type": "execute_result"
    }
   ],
   "source": [
    "np.linalg.eig(f_mat*fund_mat)[0]"
   ]
  },
  {
   "cell_type": "code",
   "execution_count": 269,
   "id": "9e74879e-f466-4e2c-9b71-7a6014eb812d",
   "metadata": {},
   "outputs": [
    {
     "data": {
      "text/plain": [
       "8.333333333333334"
      ]
     },
     "execution_count": 269,
     "metadata": {},
     "output_type": "execute_result"
    }
   ],
   "source": [
    "200/24"
   ]
  },
  {
   "cell_type": "code",
   "execution_count": 270,
   "id": "531be0ac-76bf-4b80-98a3-03a72436a271",
   "metadata": {},
   "outputs": [],
   "source": [
    "n0 = np.array([[0], [50], [0], [0], [0], [0], [0], [0], [0]])\n",
    "n_list = []\n",
    "for i in range(100):\n",
    "    n0 = np.array(np.matmul(U + f_mat, n0))\n",
    "    n_list.append(n0)"
   ]
  },
  {
   "cell_type": "code",
   "execution_count": 271,
   "id": "652cd16c-fa13-444a-b1a3-4b9c280ab97f",
   "metadata": {},
   "outputs": [
    {
     "data": {
      "text/plain": [
       "<matplotlib.legend.Legend at 0x7fa2a9de1060>"
      ]
     },
     "execution_count": 271,
     "metadata": {},
     "output_type": "execute_result"
    },
    {
     "data": {
      "image/png": "[encoded data removed]",
      "text/plain": [
       "<Figure size 1080x360 with 3 Axes>"
      ]
     },
     "metadata": {
      "needs_background": "light"
     },
     "output_type": "display_data"
    }
   ],
   "source": [
    "fig, axes = plt.subplots(\n",
    "    nrows=1,\n",
    "    ncols=3,\n",
    "    figsize=(15, 5),\n",
    "    constrained_layout=True)\n",
    "\n",
    "axes = axes.flatten()\n",
    "\n",
    "# for i,j in zip(range(4), ['E', 'J', 'RA', 'OA']):\n",
    "#     plt.plot([m[i][0] for m in n_list], label=j)\n",
    "\n",
    "axes[0].plot([m[1][0] for m in n_list], label='Juveniles')\n",
    "axes[0].plot([m[2][0] for m in n_list], label='Young adults')\n",
    "axes[0].plot([np.sum(m[3:8]) for m in n_list], label='Reproducing adults')\n",
    "axes[0].plot([m[8][0] for m in n_list], label='Old adults')\n",
    "    \n",
    "axes[1].plot([m[0][0] for m in n_list])\n",
    "    \n",
    "axes[0].legend()"
   ]
  },
  {
   "cell_type": "code",
   "execution_count": null,
   "id": "c704d5eb-2e81-4f20-8968-b1d8e8fdc352",
   "metadata": {},
   "outputs": [],
   "source": [
    "U = np.identity(9) * 0\n",
    "\n",
    "γ_JE  = 0.04\n",
    "γ_YJ = 0.04\n",
    "γ_RAY = 0.08\n",
    "\n",
    "γ_RR = 0.032\n",
    "γ_OR = 0.032\n",
    "δ_E = 0.99\n",
    "δ_J = 0.99\n",
    "δ_Y = 0.99\n",
    "δ_RA = 0.99\n",
    "δ_OA = 0.99\n",
    "\n",
    "U[0][0] = δ_E * (1 - γ_JE)\n",
    "# juvenile rates\n",
    "U[1][0] = δ_E * γ_JE\n",
    "U[1][1] = δ_J * (1 - γ_YJ) \n",
    "\n",
    "# young adults\n",
    "U[2][1] = δ_J * γ_YJ\n",
    "U[2][2] = δ_Y * (1 - γ_RAY)\n",
    "# reproducing adults\n",
    "U[3][2] = δ_Y * γ_RAY\n",
    "U[3][3] = δ_RA * (1 - γ_RR)\n",
    "\n",
    "U[4][3] = δ_RA * γ_RR\n",
    "U[4][4] = δ_RA * (1 - γ_RR)\n",
    "\n",
    "U[5][4] = δ_RA * γ_RR\n",
    "U[5][5] = δ_RA * (1 - γ_RR)\n",
    "\n",
    "U[6][5] = δ_RA * γ_RR\n",
    "U[6][6] = δ_RA * (1 - γ_RR)\n",
    "\n",
    "U[7][6] = δ_RA * γ_RR\n",
    "U[7][7] = δ_RA * (1 - γ_OR)\n",
    "\n",
    "# old adults\n",
    "U[8][7] = δ_RA * γ_OR\n",
    "U[8][8] = δ_OA"
   ]
  }
 ],
 "metadata": {
  "kernelspec": {
   "display_name": "Python 3 (ipykernel)",
   "language": "python",
   "name": "python3"
  },
  "language_info": {
   "codemirror_mode": {
    "name": "ipython",
    "version": 3
   },
   "file_extension": ".py",
   "mimetype": "text/x-python",
   "name": "python",
   "nbconvert_exporter": "python",
   "pygments_lexer": "ipython3",
   "version": "3.10.4"
  }
 },
 "nbformat": 4,
 "nbformat_minor": 5
}
