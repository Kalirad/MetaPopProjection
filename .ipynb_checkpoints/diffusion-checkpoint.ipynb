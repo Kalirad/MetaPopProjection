{
 "cells": [
  {
   "cell_type": "code",
   "execution_count": 1,
   "id": "cb680158-1949-4da9-bbc1-5343d0c2d840",
   "metadata": {},
   "outputs": [],
   "source": [
    "# visualization\n",
    "import matplotlib.pyplot as plt\n",
    "import seaborn as sns\n",
    "sns.set_theme(style=\"darkgrid\",context='talk', font_scale=1.1)\n",
    "%matplotlib inline\n",
    "\n",
    "# rest\n",
    "import scipy as scp\n",
    "import pandas as pd\n",
    "import copy as cp\n",
    "from tqdm import tqdm \n",
    "from itertools import cycle\n",
    "import numpy as np\n",
    "from scipy.signal import correlate2d"
   ]
  },
  {
   "cell_type": "code",
   "execution_count": 58,
   "id": "8a6aeeb5-5094-4dbc-b8b7-702b74afdcd1",
   "metadata": {},
   "outputs": [],
   "source": [
    "kernel = np.array([[0, 1, 0],\n",
    "                   [1,-4, 1],\n",
    "                   [0, 1, 0]])"
   ]
  },
  {
   "cell_type": "code",
   "execution_count": 59,
   "id": "38b1a82b-de97-4823-b362-5e590b054649",
   "metadata": {},
   "outputs": [],
   "source": [
    "latt = np.zeros((5,5))"
   ]
  },
  {
   "cell_type": "code",
   "execution_count": 60,
   "id": "e13928ed-126a-47fb-8e4d-513c552804da",
   "metadata": {},
   "outputs": [],
   "source": [
    "latt[0][0] = 50"
   ]
  },
  {
   "cell_type": "code",
   "execution_count": 61,
   "id": "d5be094e-71e1-4ef8-b475-872be98bdb83",
   "metadata": {},
   "outputs": [],
   "source": [
    "latt_freq = latt/np.sum(latt)"
   ]
  },
  {
   "cell_type": "code",
   "execution_count": 62,
   "id": "6aaaba4e-6149-4b69-97e8-030252bd83c4",
   "metadata": {},
   "outputs": [
    {
     "data": {
      "text/plain": [
       "array([[1., 0., 0., 0., 0.],\n",
       "       [0., 0., 0., 0., 0.],\n",
       "       [0., 0., 0., 0., 0.],\n",
       "       [0., 0., 0., 0., 0.],\n",
       "       [0., 0., 0., 0., 0.]])"
      ]
     },
     "execution_count": 62,
     "metadata": {},
     "output_type": "execute_result"
    }
   ],
   "source": [
    "latt_freq"
   ]
  },
  {
   "cell_type": "code",
   "execution_count": 52,
   "id": "5d576efb-4b64-4bfc-abb4-9f88dfd09d23",
   "metadata": {},
   "outputs": [
    {
     "data": {
      "text/plain": [
       "<AxesSubplot:>"
      ]
     },
     "execution_count": 52,
     "metadata": {},
     "output_type": "execute_result"
    },
    {
     "data": {
      "image/png": "[encoded data removed]",
      "text/plain": [
       "<Figure size 432x288 with 1 Axes>"
      ]
     },
     "metadata": {
      "needs_background": "light"
     },
     "output_type": "display_data"
    }
   ],
   "source": [
    "sns.heatmap(latt, cbar=False)"
   ]
  },
  {
   "cell_type": "code",
   "execution_count": 69,
   "id": "129b7cf2-8839-4c97-86b8-9774332e2660",
   "metadata": {},
   "outputs": [],
   "source": [
    "diff_state_c = 0.1 * correlate2d(latt_freq, kernel, mode='same', boundary='symm')\n",
    "latt_freq += diff_state_c"
   ]
  },
  {
   "cell_type": "code",
   "execution_count": 70,
   "id": "e213657b-4c91-4634-8bf7-54e46a0b741e",
   "metadata": {},
   "outputs": [],
   "source": [
    "latt = latt_freq * np.sum(latt)"
   ]
  },
  {
   "cell_type": "code",
   "execution_count": 71,
   "id": "784051b9-df14-4be4-aa18-85ff1e2758c4",
   "metadata": {},
   "outputs": [
    {
     "data": {
      "text/plain": [
       "50.0"
      ]
     },
     "execution_count": 71,
     "metadata": {},
     "output_type": "execute_result"
    }
   ],
   "source": [
    "np.sum(latt)"
   ]
  },
  {
   "cell_type": "code",
   "execution_count": 82,
   "id": "8a3b0c92-be9b-45fb-88ad-90f1cada30ea",
   "metadata": {},
   "outputs": [
    {
     "data": {
      "text/plain": [
       "array([27.9 ,  8.7 ,  1.1 ,  0.05,  0.  ,  8.7 ,  2.1 ,  0.15,  0.  ,\n",
       "        0.  ,  1.1 ,  0.15,  0.  ,  0.  ,  0.  ,  0.05,  0.  ,  0.  ,\n",
       "        0.  ,  0.  ,  0.  ,  0.  ,  0.  ,  0.  ,  0.  ])"
      ]
     },
     "execution_count": 82,
     "metadata": {},
     "output_type": "execute_result"
    }
   ],
   "source": [
    "latt.flatten()"
   ]
  },
  {
   "cell_type": "code",
   "execution_count": 84,
   "id": "822a8c0b-0c54-48e8-86e7-7222f02f9b80",
   "metadata": {
    "tags": []
   },
   "outputs": [
    {
     "data": {
      "text/plain": [
       "<mpl_toolkits.mplot3d.art3d.Poly3DCollection at 0x7f93ab16ff40>"
      ]
     },
     "execution_count": 84,
     "metadata": {},
     "output_type": "execute_result"
    },
    {
     "data": {
      "image/png": "[encoded data removed]",
      "text/plain": [
       "<Figure size 432x288 with 1 Axes>"
      ]
     },
     "metadata": {
      "needs_background": "light"
     },
     "output_type": "display_data"
    }
   ],
   "source": [
    "fig = plt.figure()\n",
    "ax = plt.axes(projection = \"3d\")\n",
    "\n",
    "dim = 5\n",
    " \n",
    "xpos = np.arange(0, dim, 1)\n",
    "ypos = np.arange(0, dim, 1)\n",
    "xpos, ypos = np.meshgrid(xpos + 0.5, ypos + 0.5)\n",
    " \n",
    "xpos = xpos.flatten()\n",
    "ypos = ypos.flatten()\n",
    "zpos = np.zeros(dim * dim)\n",
    " \n",
    "dx = np.ones(dim * dim) * 0.5\n",
    "dy = np.ones(dim * dim) * 0.5\n",
    "dz = latt.flatten()\n",
    "\n",
    "ax.bar3d(xpos, ypos, zpos, dx, dy, dz)"
   ]
  },
  {
   "cell_type": "code",
   "execution_count": 76,
   "id": "9b5506b7-3122-4abd-98b2-9375a6f5072e",
   "metadata": {},
   "outputs": [],
   "source": [
    "data = np.array([[1.8, 20.4, 2.1, 1.6],\n",
    "                 [1.3, 18.1, 1.2, 2.3],\n",
    "                 [0.8, 27.8, 1.4, 1.3]])\n",
    "\n",
    "numOfCols = 4\n",
    "numOfRows = 3\n",
    "\n",
    "xpos = np.arange(0, numOfCols, 1)\n",
    "ypos = np.arange(0, numOfRows, 1)\n",
    "xpos, ypos = np.meshgrid(xpos + 0.5, ypos + 0.5)\n",
    " \n",
    "xpos = xpos.flatten()\n",
    "ypos = ypos.flatten()\n",
    "zpos = np.zeros(numOfCols * numOfRows)\n",
    " \n",
    "dx = np.ones(numOfRows * numOfCols) * 0.5\n",
    "dy = np.ones(numOfCols * numOfRows) * 0.5\n",
    "dz = data.flatten()"
   ]
  },
  {
   "cell_type": "code",
   "execution_count": 77,
   "id": "0d81369c-d9f6-46e8-a973-e227dd62e378",
   "metadata": {},
   "outputs": [
    {
     "data": {
      "text/plain": [
       "array([ 1.8, 20.4,  2.1,  1.6,  1.3, 18.1,  1.2,  2.3,  0.8, 27.8,  1.4,\n",
       "        1.3])"
      ]
     },
     "execution_count": 77,
     "metadata": {},
     "output_type": "execute_result"
    }
   ],
   "source": [
    "dz"
   ]
  },
  {
   "cell_type": "code",
   "execution_count": 78,
   "id": "9824cd2b-d886-4afb-8fae-81852a775921",
   "metadata": {},
   "outputs": [
    {
     "data": {
      "text/plain": [
       "array([0.5, 0.5, 0.5, 0.5, 0.5, 0.5, 0.5, 0.5, 0.5, 0.5, 0.5, 0.5])"
      ]
     },
     "execution_count": 78,
     "metadata": {},
     "output_type": "execute_result"
    }
   ],
   "source": [
    "dx"
   ]
  },
  {
   "cell_type": "code",
   "execution_count": 79,
   "id": "e475185a-a33a-4a67-af87-a28bbfb5b536",
   "metadata": {},
   "outputs": [
    {
     "data": {
      "text/plain": [
       "array([0.5, 0.5, 0.5, 0.5, 0.5, 0.5, 0.5, 0.5, 0.5, 0.5, 0.5, 0.5])"
      ]
     },
     "execution_count": 79,
     "metadata": {},
     "output_type": "execute_result"
    }
   ],
   "source": [
    "dy"
   ]
  },
  {
   "cell_type": "code",
   "execution_count": null,
   "id": "82485f3c-8e7d-4f71-8510-72ecd02b4844",
   "metadata": {},
   "outputs": [],
   "source": []
  }
 ],
 "metadata": {
  "kernelspec": {
   "display_name": "Python 3 (ipykernel)",
   "language": "python",
   "name": "python3"
  },
  "language_info": {
   "codemirror_mode": {
    "name": "ipython",
    "version": 3
   },
   "file_extension": ".py",
   "mimetype": "text/x-python",
   "name": "python",
   "nbconvert_exporter": "python",
   "pygments_lexer": "ipython3",
   "version": "3.10.4"
  }
 },
 "nbformat": 4,
 "nbformat_minor": 5
}
