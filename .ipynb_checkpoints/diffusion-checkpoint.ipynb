{
 "cells": [
  {
   "cell_type": "code",
   "execution_count": 1,
   "id": "cb680158-1949-4da9-bbc1-5343d0c2d840",
   "metadata": {},
   "outputs": [],
   "source": [
    "# visualization\n",
    "import matplotlib.pyplot as plt\n",
    "import seaborn as sns\n",
    "sns.set_theme(style=\"darkgrid\",context='talk', font_scale=1.1)\n",
    "%matplotlib inline\n",
    "\n",
    "# rest\n",
    "import scipy as scp\n",
    "import pandas as pd\n",
    "import copy as cp\n",
    "from tqdm import tqdm \n",
    "from itertools import cycle\n",
    "import numpy as np\n",
    "from scipy.signal import correlate2d"
   ]
  },
  {
   "cell_type": "code",
   "execution_count": 26,
   "id": "8a6aeeb5-5094-4dbc-b8b7-702b74afdcd1",
   "metadata": {},
   "outputs": [],
   "source": [
    "kernel = np.array([[0, 1, 0],\n",
    "                   [1,-4, 1],\n",
    "                   [0, 1, 0]])"
   ]
  },
  {
   "cell_type": "code",
   "execution_count": 32,
   "id": "38b1a82b-de97-4823-b362-5e590b054649",
   "metadata": {},
   "outputs": [],
   "source": [
    "latt = np.zeros((5,5))"
   ]
  },
  {
   "cell_type": "code",
   "execution_count": 33,
   "id": "e13928ed-126a-47fb-8e4d-513c552804da",
   "metadata": {},
   "outputs": [],
   "source": [
    "latt[0][0] = 1"
   ]
  },
  {
   "cell_type": "code",
   "execution_count": 34,
   "id": "5d576efb-4b64-4bfc-abb4-9f88dfd09d23",
   "metadata": {},
   "outputs": [
    {
     "data": {
      "text/plain": [
       "<AxesSubplot:>"
      ]
     },
     "execution_count": 34,
     "metadata": {},
     "output_type": "execute_result"
    },
    {
     "data": {
      "image/png": "[encoded data removed]",
      "text/plain": [
       "<Figure size 432x288 with 1 Axes>"
      ]
     },
     "metadata": {
      "needs_background": "light"
     },
     "output_type": "display_data"
    }
   ],
   "source": [
    "sns.heatmap(latt, cbar=False)"
   ]
  },
  {
   "cell_type": "code",
   "execution_count": 35,
   "id": "129b7cf2-8839-4c97-86b8-9774332e2660",
   "metadata": {},
   "outputs": [],
   "source": [
    "diff_state_c = 0.1 * correlate2d(latt, kernel, mode='same', boundary='wrap')\n",
    "latt += diff_state_c"
   ]
  },
  {
   "cell_type": "code",
   "execution_count": 36,
   "id": "e213657b-4c91-4634-8bf7-54e46a0b741e",
   "metadata": {},
   "outputs": [
    {
     "data": {
      "text/plain": [
       "array([[0.6, 0.1, 0. , 0. , 0.1],\n",
       "       [0.1, 0. , 0. , 0. , 0. ],\n",
       "       [0. , 0. , 0. , 0. , 0. ],\n",
       "       [0. , 0. , 0. , 0. , 0. ],\n",
       "       [0.1, 0. , 0. , 0. , 0. ]])"
      ]
     },
     "execution_count": 36,
     "metadata": {},
     "output_type": "execute_result"
    }
   ],
   "source": [
    "latt"
   ]
  },
  {
   "cell_type": "code",
   "execution_count": null,
   "id": "784051b9-df14-4be4-aa18-85ff1e2758c4",
   "metadata": {},
   "outputs": [],
   "source": []
  }
 ],
 "metadata": {
  "kernelspec": {
   "display_name": "Python 3 (ipykernel)",
   "language": "python",
   "name": "python3"
  },
  "language_info": {
   "codemirror_mode": {
    "name": "ipython",
    "version": 3
   },
   "file_extension": ".py",
   "mimetype": "text/x-python",
   "name": "python",
   "nbconvert_exporter": "python",
   "pygments_lexer": "ipython3",
   "version": "3.10.4"
  }
 },
 "nbformat": 4,
 "nbformat_minor": 5
}
